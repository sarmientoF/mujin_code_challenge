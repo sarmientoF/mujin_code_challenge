{
 "cells": [
  {
   "cell_type": "code",
   "execution_count": 4,
   "metadata": {},
   "outputs": [],
   "source": [
    "lines = \"\"\"4 8 4 6\n",
    ".......#\n",
    "..#....#\n",
    ".###...#\n",
    ".....###\n",
    "G=ub(B)\n",
    "B=ub(m)lib(l)(m)\n",
    "H=ib()(mmHllmll)\n",
    "I=III\n",
    "1 1 w\n",
    "G\n",
    "1 1 e\n",
    "G\n",
    "2 2 n\n",
    "G\n",
    "4 1 s\n",
    "ib(lib()(mmm))(mmmm)\n",
    "1 1 e\n",
    "H \n",
    "2 2 s\n",
    "I\n",
    "\"\"\"\n",
    "lines = lines.splitlines()"
   ]
  },
  {
   "cell_type": "code",
   "execution_count": 5,
   "metadata": {},
   "outputs": [],
   "source": [
    "import numpy as np\n",
    "from dataclasses import dataclass, field\n",
    "from enum import Enum"
   ]
  },
  {
   "cell_type": "code",
   "execution_count": 6,
   "metadata": {},
   "outputs": [
    {
     "data": {
      "text/plain": [
       "(4, 8, 4, 6)"
      ]
     },
     "execution_count": 6,
     "metadata": {},
     "output_type": "execute_result"
    }
   ],
   "source": [
    "r, c, p, q = [int(c) for c in lines[0].split(\" \")]\n",
    "r, c, p, q"
   ]
  },
  {
   "cell_type": "code",
   "execution_count": 7,
   "metadata": {},
   "outputs": [],
   "source": [
    "map = np.full((r + 2, c + 2), True, dtype=bool)\n",
    "map[1:r+1, 1:c+1] = [[c == \"#\" for c in [*line]] for line in lines[1:r+1]]"
   ]
  },
  {
   "cell_type": "code",
   "execution_count": 38,
   "metadata": {},
   "outputs": [
    {
     "data": {
      "text/plain": [
       "{'G': ['u', 'b', '(', 'B', ')'],\n",
       " 'B': ['u', 'b', '(', 'm', ')', 'l', 'i', 'b', '(', 'l', ')', '(', 'm', ')'],\n",
       " 'H': ['i', 'b', '(', ')', '(', 'm', 'm', 'H', 'l', 'l', 'm', 'l', 'l', ')'],\n",
       " 'I': ['I', 'I', 'I']}"
      ]
     },
     "execution_count": 38,
     "metadata": {},
     "output_type": "execute_result"
    }
   ],
   "source": [
    "procedures: dict[str, list] = dict()\n",
    "for line in lines[r + 1 : r + 1 + p]:\n",
    "    name, program = line.split(\"=\")\n",
    "    procedures[name] = [*program]\n",
    "procedures"
   ]
  },
  {
   "cell_type": "code",
   "execution_count": 139,
   "metadata": {},
   "outputs": [],
   "source": [
    "class Direction(Enum):\n",
    "    n = (-1, 0)\n",
    "    w = (0, -1)\n",
    "    s = (+1, 0)\n",
    "    e = (0, +1)\n",
    "\n",
    "\n",
    "left_mapping = {\n",
    "    Direction.n: Direction.w,\n",
    "    Direction.w: Direction.s,\n",
    "    Direction.s: Direction.e,\n",
    "    Direction.e: Direction.n,\n",
    "}\n",
    "\n",
    "\n",
    "@dataclass\n",
    "class Robot:\n",
    "    x: int\n",
    "    y: int\n",
    "    d: Direction\n",
    "    map: np.array = field(repr=False, compare=False)\n",
    "    b: bool = field(init=False, compare=False)\n",
    "\n",
    "    def __post_init__(self):\n",
    "        self.checkBlock()\n",
    "\n",
    "    def m(self):\n",
    "        dx, dy = self.d.value\n",
    "        self.x += dx\n",
    "        self.y += dy\n",
    "        self.checkBlock()\n",
    "\n",
    "    def l(self):\n",
    "        self.d = left_mapping[self.d]\n",
    "        self.checkBlock()\n",
    "\n",
    "    def condition(self, c):\n",
    "        if c == \"b\":\n",
    "            return self.b\n",
    "        return self.d == Direction[c]\n",
    "\n",
    "    def checkBlock(self) -> bool:\n",
    "        dx, dy = self.d.value\n",
    "        x = self.x + dx\n",
    "        y = self.y + dy\n",
    "        self.b = self.map[x, y]"
   ]
  },
  {
   "cell_type": "code",
   "execution_count": 158,
   "metadata": {},
   "outputs": [
    {
     "name": "stdout",
     "output_type": "stream",
     "text": [
      "Robot(x=1, y=1, d=<Direction.w: (0, -1)>, b=True)\n",
      "inf\n",
      "Robot(x=1, y=1, d=<Direction.w: (0, -1)>, b=True)\n",
      "Robot(x=4, y=4, d=<Direction.e: (0, 1)>, b=False)\n",
      "Robot(x=1, y=4, d=<Direction.e: (0, 1)>, b=False)\n",
      "inf\n"
     ]
    }
   ],
   "source": [
    "def closingParenthesis(program):\n",
    "    i = 0\n",
    "    for j, _c in enumerate(program):\n",
    "        if _c == \"(\":\n",
    "            i += 1\n",
    "        if _c == \")\":\n",
    "            i -= 1\n",
    "        if i == 0:\n",
    "            return program[1:j], program[j + 1 :]\n",
    "\n",
    "\n",
    "def runProgram(program: list):\n",
    "    program = program.copy()\n",
    "    if not program:\n",
    "        return\n",
    "    l = program.pop(0)\n",
    "    if l == \"i\":\n",
    "        c = program.pop(0)\n",
    "        yes, rest = closingParenthesis(program)\n",
    "        no, program = closingParenthesis(rest)\n",
    "        runProgram(yes if robot.condition(c) else no)\n",
    "    if l == \"u\":\n",
    "        c = program.pop(0)\n",
    "        yes, rest = closingParenthesis(program)\n",
    "        \n",
    "        if not robot.condition(c):\n",
    "            runProgram(yes)\n",
    "            program = [l, c, *program]\n",
    "        else:\n",
    "            program = rest\n",
    "\n",
    "    if l in [\"m\", \"l\"]:\n",
    "        robot.l() if l == \"l\" else robot.m()\n",
    "    if l in procedures:\n",
    "        program = [*procedures[l], *program]\n",
    "    runProgram(program)\n",
    "\n",
    "\n",
    "for i in range(q):\n",
    "    x0, y0, d0 = lines[1 + r + p + 2 * i].split(\" \")\n",
    "    procedureCall = lines[1 + r + p + 2 * i + 1]\n",
    "\n",
    "    program = (\n",
    "        procedures[procedureCall].copy()\n",
    "        if procedureCall in procedures\n",
    "        else [*procedureCall]\n",
    "    )\n",
    "    robot = Robot(int(x0), int(y0), Direction[d0], map)\n",
    "    try:\n",
    "        runProgram(program)\n",
    "        print(robot)\n",
    "    except:\n",
    "        print(\"inf\")"
   ]
  },
  {
   "cell_type": "code",
   "execution_count": null,
   "metadata": {},
   "outputs": [],
   "source": []
  },
  {
   "cell_type": "code",
   "execution_count": 142,
   "metadata": {},
   "outputs": [
    {
     "data": {
      "text/plain": [
       "3000"
      ]
     },
     "execution_count": 142,
     "metadata": {},
     "output_type": "execute_result"
    }
   ],
   "source": [
    "import sysb\n",
    "sys.getrecursionlimit()"
   ]
  },
  {
   "cell_type": "code",
   "execution_count": 9,
   "metadata": {},
   "outputs": [
    {
     "name": "stdout",
     "output_type": "stream",
     "text": [
      "2\n",
      "3\n",
      "5\n",
      "7\n"
     ]
    }
   ],
   "source": [
    "def primes(N):\n",
    "    is_prime = [True] * (N + 1)\n",
    "    is_prime[0] = is_prime[1] = False\n",
    "    for i in range(2, int(N**.5) + 1):\n",
    "        if is_prime[i]:\n",
    "            for j in range(i*i, N + 1, i):\n",
    "                is_prime[j] = False\n",
    "            yield i\n",
    "\n",
    "for p in primes(100):\n",
    "    print(p)"
   ]
  },
  {
   "cell_type": "code",
   "execution_count": 7,
   "metadata": {},
   "outputs": [
    {
     "name": "stdout",
     "output_type": "stream",
     "text": [
      "2 4\n",
      "2 6\n",
      "2 8\n",
      "2 10\n",
      "2 12\n",
      "2 14\n",
      "2 16\n",
      "2 18\n",
      "2 20\n",
      "2 22\n",
      "2 24\n",
      "2 26\n",
      "2 28\n",
      "2 30\n",
      "2 32\n",
      "2 34\n",
      "2 36\n",
      "2 38\n",
      "2 40\n",
      "2 42\n",
      "2 44\n",
      "2 46\n",
      "2 48\n",
      "2 50\n",
      "3 9\n",
      "3 12\n",
      "3 15\n",
      "3 18\n",
      "3 21\n",
      "3 24\n",
      "3 27\n",
      "3 30\n",
      "3 33\n",
      "3 36\n",
      "3 39\n",
      "3 42\n",
      "3 45\n",
      "3 48\n",
      "5 25\n",
      "5 30\n",
      "5 35\n",
      "5 40\n",
      "5 45\n",
      "5 50\n",
      "7 49\n",
      "[2, 3, 5, 7, 11, 13, 17, 19, 23, 29, 31, 37, 41, 43, 47]\n"
     ]
    }
   ],
   "source": [
    "N=50\n",
    "is_prime = [True] * (N + 1)\n",
    "is_prime[0] = is_prime[1] = False\n",
    "for i in range(2, int(N**.5) + 1):\n",
    "    if is_prime[i]:\n",
    "        for j in range(i*i, N + 1, i):\n",
    "            print(i, j)\n",
    "            is_prime[j] = False\n",
    "# print([n for n, v in enumerate(is_prime) if v])"
   ]
  },
  {
   "cell_type": "code",
   "execution_count": null,
   "metadata": {},
   "outputs": [],
   "source": []
  }
 ],
 "metadata": {
  "kernelspec": {
   "display_name": "Python 3",
   "language": "python",
   "name": "python3"
  },
  "language_info": {
   "codemirror_mode": {
    "name": "ipython",
    "version": 3
   },
   "file_extension": ".py",
   "mimetype": "text/x-python",
   "name": "python",
   "nbconvert_exporter": "python",
   "pygments_lexer": "ipython3",
   "version": "3.11.4"
  },
  "orig_nbformat": 4
 },
 "nbformat": 4,
 "nbformat_minor": 2
}
